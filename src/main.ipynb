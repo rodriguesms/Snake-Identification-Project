{
 "cells": [
  {
   "attachments": {},
   "cell_type": "markdown",
   "metadata": {},
   "source": [
    "# Snake Identification Project\n",
    "\n",
    "<style>\n",
    "td, th {\n",
    "   border: none!important;\n",
    "}\n",
    "</style>\n",
    "\n",
    "### Alunos\n",
    "\n",
    "|                              |                |\n",
    "| ---------------------------- | -------------  |\n",
    "| Miguel Elias Silva Rodrigues | 20190018853    |\n",
    "| João Victor Rodrigues Galvão | 20190172620     |\n",
    "| Isaac Nóbrega Marinho        | 20190021071           |"
   ]
  },
  {
   "attachments": {},
   "cell_type": "markdown",
   "metadata": {},
   "source": [
    "## Introdução"
   ]
  },
  {
   "cell_type": "code",
   "execution_count": 29,
   "metadata": {},
   "outputs": [],
   "source": [
    "import pandas as pd\n",
    "import matplotlib.pyplot as plt"
   ]
  },
  {
   "cell_type": "code",
   "execution_count": 30,
   "metadata": {},
   "outputs": [
    {
     "data": {
      "image/png": "[encoded data removed]",
      "text/plain": [
       "<Figure size 640x480 with 1 Axes>"
      ]
     },
     "metadata": {},
     "output_type": "display_data"
    }
   ],
   "source": [
    "train_dataset = pd.read_csv('../data/min/Csv/train.csv')\n",
    "test_dataset = pd.read_csv('../data/min/Csv/test.csv')\n",
    "\n",
    "brazilian_train_count = train_dataset[train_dataset['country']=='Brazil']['class_id'].value_counts()\n",
    "\n",
    "# Criar o histograma de frequências\n",
    "plt.bar(brazilian_train_count.index, brazilian_train_count.values)\n",
    "\n",
    "# Configurar os rótulos dos eixos\n",
    "plt.xlabel('Categorias')\n",
    "plt.ylabel('Frequência')\n",
    "\n",
    "# Exibir o histograma\n",
    "plt.show()"
   ]
  },
  {
   "cell_type": "code",
   "execution_count": 31,
   "metadata": {},
   "outputs": [
    {
     "name": "stderr",
     "output_type": "stream",
     "text": [
      "/home/mai/Documents/SnakeIdentification/snake-id/lib/python3.7/site-packages/ipykernel_launcher.py:1: UserWarning: Boolean Series key will be reindexed to match DataFrame index.\n",
      "  \"\"\"Entry point for launching an IPython kernel.\n"
     ]
    },
    {
     "data": {
      "text/plain": [
       "454    8\n",
       "470    7\n",
       "755    5\n",
       "457    4\n",
       "462    4\n",
       "741    4\n",
       "758    4\n",
       "474    3\n",
       "747    3\n",
       "751    2\n",
       "464    1\n",
       "Name: class_id, dtype: int64"
      ]
     },
     "execution_count": 31,
     "metadata": {},
     "output_type": "execute_result"
    }
   ],
   "source": [
    "test_dataset[train_dataset['country']=='Brazil']['class_id'].value_counts()"
   ]
  },
  {
   "attachments": {},
   "cell_type": "markdown",
   "metadata": {},
   "source": [
    "## Pré-processamento"
   ]
  },
  {
   "attachments": {},
   "cell_type": "markdown",
   "metadata": {},
   "source": [
    "## Treinamento"
   ]
  },
  {
   "attachments": {},
   "cell_type": "markdown",
   "metadata": {},
   "source": [
    "## Validação"
   ]
  },
  {
   "attachments": {},
   "cell_type": "markdown",
   "metadata": {},
   "source": [
    "## Aplicação"
   ]
  }
 ],
 "metadata": {
  "kernelspec": {
   "display_name": "snake-id",
   "language": "python",
   "name": "python3"
  },
  "language_info": {
   "codemirror_mode": {
    "name": "ipython",
    "version": 3
   },
   "file_extension": ".py",
   "mimetype": "text/x-python",
   "name": "python",
   "nbconvert_exporter": "python",
   "pygments_lexer": "ipython3",
   "version": "3.7.16"
  },
  "orig_nbformat": 4
 },
 "nbformat": 4,
 "nbformat_minor": 2
}
